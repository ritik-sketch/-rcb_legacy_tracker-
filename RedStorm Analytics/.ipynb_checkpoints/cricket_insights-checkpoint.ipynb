{
 "cells": [
  {
   "cell_type": "code",
   "execution_count": null,
   "id": "2a037b25",
   "metadata": {
    "vscode": {
     "languageId": "plaintext"
    }
   },
   "outputs": [],
   "source": [
    "import pandas as pd\n",
    "import matplotlib.pyplot as plt\n",
    "\n",
    "df = pd.read_csv(\"data/cricket_data_2025.csv\")"
   ]
  },
  {
   "cell_type": "code",
   "execution_count": null,
   "id": "ab3c0c8d",
   "metadata": {
    "vscode": {
     "languageId": "plaintext"
    }
   },
   "outputs": [],
   "source": [
    "top_runs = df.groupby('Player_Name')['Runs_Scored'].sum().sort_values(ascending=False).head(10)\n",
    "\n",
    "top_runs.plot(kind='bar', color='green', figsize=(10,6))\n",
    "plt.title(\"Top 10 IPL Run Scorers (2008–2025)\")\n",
    "plt.xlabel(\"Player Name\")\n",
    "plt.ylabel(\"Total Runs\")\n",
    "plt.xticks(rotation=45)\n",
    "plt.grid(axis='y')\n",
    "plt.tight_layout()\n",
    "plt.show()\n",
    "plt.savefig(\"visuals/top_ipl_run_scorers.png\")"
   ]
  },
  {
   "cell_type": "code",
   "execution_count": null,
   "id": "e195b02e",
   "metadata": {
    "vscode": {
     "languageId": "plaintext"
    }
   },
   "outputs": [],
   "source": [
    "top_wickets = df.groupby('Player_Name')['Wickets_Taken'].sum().sort_values(ascending=False).head(10)\n",
    "\n",
    "top_wickets.plot(kind='bar', color='purple', figsize=(10,6))\n",
    "plt.title(\"Top 10 IPL Wicket Takers (2008–2025)\")\n",
    "plt.xlabel(\"Player Name\")\n",
    "plt.ylabel(\"Total Wickets\")\n",
    "plt.xticks(rotation=45)\n",
    "plt.grid(axis='y')\n",
    "plt.tight_layout()\n",
    "plt.show()\n",
    "plt.savefig(\"visuals/top_ipl_wicket_takers.png\")"
   ]
  },
  {
   "cell_type": "code",
   "execution_count": null,
   "id": "1f0183e6",
   "metadata": {
    "vscode": {
     "languageId": "plaintext"
    }
   },
   "outputs": [],
   "source": [
    "team_centuries = df.groupby('Team_Name')['Centuries'].sum().sort_values(ascending=False).head(10)\n",
    "\n",
    "team_centuries.plot(kind='bar', color='teal', figsize=(10,6))\n",
    "plt.title(\"Top 10 IPL Teams by Total Centuries\")\n",
    "plt.xlabel(\"Team Name\")\n",
    "plt.ylabel(\"Total Centuries\")\n",
    "plt.xticks(rotation=45)\n",
    "plt.grid(axis='y')\n",
    "plt.tight_layout()\n",
    "plt.show()\n",
    "plt.savefig(\"visuals/ipl_team_centuries.png\")"
   ]
  }
 ],
 "metadata": {
  "language_info": {
   "name": "python"
  }
 },
 "nbformat": 4,
 "nbformat_minor": 5
}
